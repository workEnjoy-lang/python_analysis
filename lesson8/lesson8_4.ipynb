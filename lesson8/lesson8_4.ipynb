{
 "cells": [
  {
   "cell_type": "markdown",
   "id": "4be73fb9",
   "metadata": {},
   "source": [
    "### function的參數,可以要求是一個function"
   ]
  },
  {
   "cell_type": "code",
   "execution_count": null,
   "id": "b4138683",
   "metadata": {},
   "outputs": [
    {
     "data": {
      "text/plain": [
       "[1, 3, 5, 7, 9, 11, 13, 15, 17, 19]"
      ]
     },
     "execution_count": 10,
     "metadata": {},
     "output_type": "execute_result"
    }
   ],
   "source": [
    "numbers:list[int] = [1, 2, 3, 4, 5, 6, 7, 8, 9, 10, 11, 12, 13, 14, 15, 16, 17, 18, 19, 20]\n",
    "\n",
    "def is_odd(n):\n",
    "    if n % 2 ==1: #從1+2 = 3 ,就變成 1, 3, 5, 7, 9,...直到尾數20就停\n",
    "        return True\n",
    "    else:\n",
    "        return False\n",
    "\n",
    "#取出奇數值\n",
    "list(filter(is_odd,numbers))"
   ]
  },
  {
   "cell_type": "code",
   "execution_count": 14,
   "id": "21feff1a",
   "metadata": {},
   "outputs": [
    {
     "data": {
      "text/plain": [
       "[1, 3, 5, 7, 9, 11, 13, 15, 17, 19]"
      ]
     },
     "execution_count": 14,
     "metadata": {},
     "output_type": "execute_result"
    }
   ],
   "source": [
    "numbers:list[int] = [1, 2, 3, 4, 5, 6, 7, 8, 9, 10, 11, 12, 13, 14, 15, 16, 17, 18, 19, 20]\n",
    "\n",
    "\n",
    "\n",
    "#取出奇數值\n",
    "list(filter(lambda n:n % 2 == 1,numbers))#從1+2 = 3 ,就變成 1, 3, 5, 7, 9,...直到尾數20就停"
   ]
  }
 ],
 "metadata": {
  "kernelspec": {
   "display_name": "base",
   "language": "python",
   "name": "python3"
  },
  "language_info": {
   "codemirror_mode": {
    "name": "ipython",
    "version": 3
   },
   "file_extension": ".py",
   "mimetype": "text/x-python",
   "name": "python",
   "nbconvert_exporter": "python",
   "pygments_lexer": "ipython3",
   "version": "3.12.7"
  }
 },
 "nbformat": 4,
 "nbformat_minor": 5
}
