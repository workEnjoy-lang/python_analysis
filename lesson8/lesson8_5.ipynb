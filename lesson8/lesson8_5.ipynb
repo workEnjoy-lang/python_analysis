{
 "cells": [
  {
   "cell_type": "code",
   "execution_count": 1,
   "id": "18867529",
   "metadata": {},
   "outputs": [],
   "source": [
    "students = [\n",
    "    {\"name\":\"小明\", \"chinese\": 85, \"english\": 92, \"math\": 78},\n",
    "    {\"name\":\"小華\", \"chinese\": 90, \"english\": 88, \"math\": 95},\n",
    "    {\"name\":\"小美\", \"chinese\": 79, \"english\": 85, \"math\": 90},\n",
    "    {\"name\":\"小強\", \"chinese\": 88, \"english\": 92, \"math\": 87},\n",
    "    {\"name\":\"小麗\", \"chinese\": 95, \"english\": 89, \"math\": 93},\n",
    "]"
   ]
  },
  {
   "cell_type": "code",
   "execution_count": 4,
   "id": "1245dadd",
   "metadata": {},
   "outputs": [
    {
     "name": "stdout",
     "output_type": "stream",
     "text": [
      "小明\n",
      "國文:85\n",
      "英文:92\n",
      "數學:78\n",
      "+++++++++++++++++\n",
      "小華\n",
      "國文:90\n",
      "英文:88\n",
      "數學:95\n",
      "+++++++++++++++++\n",
      "小美\n",
      "國文:79\n",
      "英文:85\n",
      "數學:90\n",
      "+++++++++++++++++\n",
      "小強\n",
      "國文:88\n",
      "英文:92\n",
      "數學:87\n",
      "+++++++++++++++++\n",
      "小麗\n",
      "國文:95\n",
      "英文:89\n",
      "數學:93\n",
      "+++++++++++++++++\n"
     ]
    }
   ],
   "source": [
    "for student in students:\n",
    "    print(student['name'])\n",
    "    print(f'國文:{student['chinese']}')\n",
    "    print(f'英文:{student['english']}')\n",
    "    print(f'數學:{student['math']}')\n",
    "\n",
    "    print(\"+++++++++++++++++\")"
   ]
  }
 ],
 "metadata": {
  "kernelspec": {
   "display_name": "base",
   "language": "python",
   "name": "python3"
  },
  "language_info": {
   "codemirror_mode": {
    "name": "ipython",
    "version": 3
   },
   "file_extension": ".py",
   "mimetype": "text/x-python",
   "name": "python",
   "nbconvert_exporter": "python",
   "pygments_lexer": "ipython3",
   "version": "3.12.7"
  }
 },
 "nbformat": 4,
 "nbformat_minor": 5
}
