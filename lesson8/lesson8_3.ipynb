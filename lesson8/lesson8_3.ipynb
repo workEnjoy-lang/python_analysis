{
 "cells": [
  {
   "cell_type": "markdown",
   "id": "5ec1aa21",
   "metadata": {},
   "source": [
    "### 組合多筆資料成為有順序的資料(list)"
   ]
  },
  {
   "cell_type": "code",
   "execution_count": 1,
   "id": "07319450",
   "metadata": {},
   "outputs": [],
   "source": [
    "nums:list = [1, 2, 3, 4, 'a', 'b', 'c',]"
   ]
  },
  {
   "cell_type": "markdown",
   "id": "3a976c1f",
   "metadata": {},
   "source": [
    "### list內的元素,一般都是相通的資料型態"
   ]
  },
  {
   "cell_type": "code",
   "execution_count": 4,
   "id": "2933a473",
   "metadata": {},
   "outputs": [
    {
     "data": {
      "text/plain": [
       "[10, 20, 30, 40, 50, 60, 70, 80, 90, 100]"
      ]
     },
     "execution_count": 4,
     "metadata": {},
     "output_type": "execute_result"
    }
   ],
   "source": [
    "nums:list[int] = [10, 20, 30, 40, 50, 60, 70, 80, 90, 100]\n",
    "nums"
   ]
  },
  {
   "cell_type": "code",
   "execution_count": 5,
   "id": "43a29e15",
   "metadata": {},
   "outputs": [
    {
     "data": {
      "text/plain": [
       "100"
      ]
     },
     "execution_count": 5,
     "metadata": {},
     "output_type": "execute_result"
    }
   ],
   "source": [
    "#取出元素\n",
    "nums[0]\n",
    "nums[1]\n",
    "nums[9]\n",
    "nums[-1]"
   ]
  },
  {
   "cell_type": "code",
   "execution_count": 17,
   "id": "830f7c6c",
   "metadata": {},
   "outputs": [
    {
     "data": {
      "text/plain": [
       "[60, 70, 80, 90, 100]"
      ]
     },
     "execution_count": 17,
     "metadata": {},
     "output_type": "execute_result"
    }
   ],
   "source": [
    "#切割元素(slice)\n",
    "nums[0:5] #第一個數值到第五個數值\n",
    "nums[3:5] #第三個數值之後到第五個數值\n",
    "nums[:5] #前五個\n",
    "nums[-5:]#最後五個 100, 90, 80, 70, 60\n"
   ]
  },
  {
   "cell_type": "code",
   "execution_count": 18,
   "id": "813f0957",
   "metadata": {},
   "outputs": [
    {
     "name": "stdout",
     "output_type": "stream",
     "text": [
      "10 20 30 40 50 60 70 80 90 100 "
     ]
    }
   ],
   "source": [
    "#list是串列資料,代表可以iterable\n",
    "for i in nums:\n",
    "    print(i,end=' ')"
   ]
  }
 ],
 "metadata": {
  "kernelspec": {
   "display_name": "base",
   "language": "python",
   "name": "python3"
  },
  "language_info": {
   "codemirror_mode": {
    "name": "ipython",
    "version": 3
   },
   "file_extension": ".py",
   "mimetype": "text/x-python",
   "name": "python",
   "nbconvert_exporter": "python",
   "pygments_lexer": "ipython3",
   "version": "3.12.7"
  }
 },
 "nbformat": 4,
 "nbformat_minor": 5
}
