{
 "cells": [
  {
   "cell_type": "markdown",
   "id": "7fe08359",
   "metadata": {},
   "source": [
    "### python資料結構"
   ]
  },
  {
   "cell_type": "code",
   "execution_count": 2,
   "id": "f301a132",
   "metadata": {},
   "outputs": [],
   "source": [
    "name:str = \"徐國堂\"\n",
    "chinese:int = 96\n",
    "english:int = 85\n",
    "math:int = 95"
   ]
  },
  {
   "cell_type": "markdown",
   "id": "aa2d30a5",
   "metadata": {},
   "source": [
    "### 一組有關係的資料(dictionary)-map資料類型"
   ]
  },
  {
   "cell_type": "code",
   "execution_count": null,
   "id": "d1fa6093",
   "metadata": {},
   "outputs": [
    {
     "data": {
      "text/plain": [
       "{'name': '徐國堂', 'chinese': 96, 'english': 85, 'math': 95}"
      ]
     },
     "execution_count": 17,
     "metadata": {},
     "output_type": "execute_result"
    }
   ],
   "source": [
    "student:dict = {'name':\"徐國堂\", \n",
    "                'chinese':96, \n",
    "                'english':85, \n",
    "                'math':95}\n",
    "\n",
    "student        "
   ]
  },
  {
   "cell_type": "code",
   "execution_count": 18,
   "id": "92672efa",
   "metadata": {},
   "outputs": [
    {
     "data": {
      "text/plain": [
       "96"
      ]
     },
     "execution_count": 18,
     "metadata": {},
     "output_type": "execute_result"
    }
   ],
   "source": [
    "#取出值\n",
    "student['name']\n",
    "student['chinese']"
   ]
  },
  {
   "cell_type": "code",
   "execution_count": 19,
   "id": "c2c58ad8",
   "metadata": {},
   "outputs": [],
   "source": [
    "#改變值\n",
    "\n",
    "student['chinese'] = 90"
   ]
  },
  {
   "cell_type": "code",
   "execution_count": 20,
   "id": "726f0221",
   "metadata": {},
   "outputs": [
    {
     "data": {
      "text/plain": [
       "{'name': '徐國堂', 'chinese': 90, 'english': 85, 'math': 95, 'history': 84}"
      ]
     },
     "execution_count": 20,
     "metadata": {},
     "output_type": "execute_result"
    }
   ],
   "source": [
    "#新增key\n",
    "student['history'] = 84\n",
    "student"
   ]
  }
 ],
 "metadata": {
  "kernelspec": {
   "display_name": "base",
   "language": "python",
   "name": "python3"
  },
  "language_info": {
   "codemirror_mode": {
    "name": "ipython",
    "version": 3
   },
   "file_extension": ".py",
   "mimetype": "text/x-python",
   "name": "python",
   "nbconvert_exporter": "python",
   "pygments_lexer": "ipython3",
   "version": "3.12.7"
  }
 },
 "nbformat": 4,
 "nbformat_minor": 5
}
