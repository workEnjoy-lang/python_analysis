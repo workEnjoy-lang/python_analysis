{
 "cells": [
  {
   "cell_type": "code",
   "execution_count": 1,
   "id": "eb11d8eb",
   "metadata": {},
   "outputs": [
    {
     "data": {
      "text/plain": [
       "'這是字串'"
      ]
     },
     "execution_count": 1,
     "metadata": {},
     "output_type": "execute_result"
    }
   ],
   "source": [
    "\"這是字串\""
   ]
  },
  {
   "cell_type": "code",
   "execution_count": 2,
   "id": "7dc6ca95",
   "metadata": {},
   "outputs": [
    {
     "data": {
      "text/plain": [
       "'這也是字串'"
      ]
     },
     "execution_count": 2,
     "metadata": {},
     "output_type": "execute_result"
    }
   ],
   "source": [
    "'這也是字串'"
   ]
  },
  {
   "cell_type": "code",
   "execution_count": 3,
   "id": "46e8ed4c",
   "metadata": {},
   "outputs": [
    {
     "name": "stdout",
     "output_type": "stream",
     "text": [
      "這是第1個數值:10\n",
      "這是第2個數值:20.0\n"
     ]
    }
   ],
   "source": [
    "print('這是第1個數值:' + str(10) + \"\\n這是第2個數值:\" + str(20.0))"
   ]
  },
  {
   "cell_type": "code",
   "execution_count": 4,
   "id": "34efbd46",
   "metadata": {},
   "outputs": [
    {
     "name": "stdout",
     "output_type": "stream",
     "text": [
      "這是第1個數值: 10 \n",
      "這是第2個數值: 20.0\n"
     ]
    }
   ],
   "source": [
    "print('這是第1個數值:',str(10), \"\\n這是第2個數值:\", str(20.0))"
   ]
  },
  {
   "cell_type": "markdown",
   "id": "2fcef4fc",
   "metadata": {},
   "source": [
    "### 字串插補"
   ]
  },
  {
   "cell_type": "code",
   "execution_count": 5,
   "id": "a61cacf9",
   "metadata": {},
   "outputs": [
    {
     "name": "stdout",
     "output_type": "stream",
     "text": [
      "這是第1個數值:10\n",
      "這是第2個數值:20.0\n"
     ]
    }
   ],
   "source": [
    "print(f\"這是第1個數值:{10}\\n這是第2個數值:{20.0}\")"
   ]
  },
  {
   "cell_type": "markdown",
   "id": "a0b4df60",
   "metadata": {},
   "source": []
  }
 ],
 "metadata": {
  "kernelspec": {
   "display_name": "base",
   "language": "python",
   "name": "python3"
  },
  "language_info": {
   "codemirror_mode": {
    "name": "ipython",
    "version": 3
   },
   "file_extension": ".py",
   "mimetype": "text/x-python",
   "name": "python",
   "nbconvert_exporter": "python",
   "pygments_lexer": "ipython3",
   "version": "3.12.7"
  }
 },
 "nbformat": 4,
 "nbformat_minor": 5
}
