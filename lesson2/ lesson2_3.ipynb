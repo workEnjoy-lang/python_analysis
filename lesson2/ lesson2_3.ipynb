{
 "cells": [
  {
   "cell_type": "code",
   "execution_count": 2,
   "id": "e87e6dad",
   "metadata": {},
   "outputs": [
    {
     "name": "stdout",
     "output_type": "stream",
     "text": [
      "矩形的寬是:45.78,高是:92.57,面積是4237.8546\n"
     ]
    }
   ],
   "source": [
    "width = 45.78\n",
    "height = 92.57\n",
    "area = width * height\n",
    "\n",
    "print(f\"矩形的寬是:{width},高是:{height},面積是{area}\")"
   ]
  },
  {
   "cell_type": "code",
   "execution_count": 1,
   "id": "84ee3158",
   "metadata": {},
   "outputs": [
    {
     "name": "stdout",
     "output_type": "stream",
     "text": [
      "4032\n"
     ]
    }
   ],
   "source": [
    "n1=56*72\n",
    "print(n1)\n"
   ]
  },
  {
   "cell_type": "code",
   "execution_count": 6,
   "id": "8cd56c72",
   "metadata": {},
   "outputs": [
    {
     "name": "stdout",
     "output_type": "stream",
     "text": [
      "這是第一個數值:10\n",
      "這是第二個數值:20.0\n",
      "這是第三個數值:30\n"
     ]
    }
   ],
   "source": [
    "print('這是第一個數值:'+str(10)+\"\\n這是第二個數值:\"+str(20.0)+\"\\n這是第三個數值:\"+str(30))### str(10), 將10括號起來向左邊str匯入,將10變成str字串(這段敘述區有4各字串)"
   ]
  },
  {
   "cell_type": "code",
   "execution_count": null,
   "id": "581d8438",
   "metadata": {},
   "outputs": [
    {
     "name": "stdout",
     "output_type": "stream",
     "text": [
      "這是第一個數值: 10 \n",
      "這是第二個數值: 20.0 \n",
      "這是第三個數值: 30\n"
     ]
    }
   ],
   "source": [
    "print('這是第一個數值:',str(10),\"\\n這是第二個數值:\",str(20.0),\"\\n這是第三個數值:\",str(30)) ###把+變成[逗號],(引述值) 逗號之前的敘述區都往左排 "
   ]
  },
  {
   "cell_type": "code",
   "execution_count": null,
   "id": "328d2824",
   "metadata": {},
   "outputs": [],
   "source": []
  },
  {
   "cell_type": "code",
   "execution_count": null,
   "id": "2eb33654",
   "metadata": {},
   "outputs": [
    {
     "name": "stdout",
     "output_type": "stream",
     "text": [
      "這是第一個數值:10\n",
      "這是第二個數值:\n"
     ]
    }
   ],
   "source": [
    "print('這是第一個數值:10\\n這是第二個數值:')###在單引號裡面算一個敘述區塊 例如'這是第一個數值:10\\n這是第二個數值:'在'和另一個單引號之間'算一個敘述區塊"
   ]
  },
  {
   "cell_type": "code",
   "execution_count": 2,
   "id": "97888456",
   "metadata": {},
   "outputs": [
    {
     "name": "stdout",
     "output_type": "stream",
     "text": [
      "在單引號內都是敘述區\n"
     ]
    }
   ],
   "source": [
    "print('在單引號內都是敘述區')#"
   ]
  },
  {
   "cell_type": "markdown",
   "id": "83008f3b",
   "metadata": {},
   "source": [
    "字串插補"
   ]
  },
  {
   "cell_type": "code",
   "execution_count": null,
   "id": "e2901196",
   "metadata": {},
   "outputs": [
    {
     "name": "stdout",
     "output_type": "stream",
     "text": [
      "這是第一個數值:10\n",
      "這是第二個數值:20.0\n",
      "這是第三個數值:30\n"
     ]
    }
   ],
   "source": [
    "print(f\"這是第一個數值:{10}\\n這是第二個數值:{20.0}\\n這是第三個數值:{30}\") ### 在字串前加入f, 使用大括弧{}在裡面輸入數字例如[10,20.0]這樣子大括弧裡面的數字,\n",
    "                                                                      ###就加入 \"這是第一個數值\"(數字加入字串) \"這是第一個數值\"就變成一個函式\n",
    "                                                                      ###而f加\"雙引號 (f\"在雙引號內都是敘述區\")<=這是一個敘述區"
   ]
  },
  {
   "cell_type": "markdown",
   "id": "b53ee26a",
   "metadata": {},
   "source": [
    "單引號和雙引號"
   ]
  },
  {
   "cell_type": "code",
   "execution_count": null,
   "id": "2de080b5",
   "metadata": {},
   "outputs": [
    {
     "name": "stdout",
     "output_type": "stream",
     "text": [
      "\"這是單引號內的雙引號\"\n"
     ]
    }
   ],
   "source": [
    "print('\"這是單引號內的雙引號\"')###在單引號內加上雙引號,可以看到敘述區的雙引號,可以作語法敘述的重點"
   ]
  },
  {
   "cell_type": "code",
   "execution_count": 4,
   "id": "46080256",
   "metadata": {},
   "outputs": [
    {
     "name": "stdout",
     "output_type": "stream",
     "text": [
      "Python 3.12.7\n"
     ]
    }
   ],
   "source": [
    "!python --version"
   ]
  }
 ],
 "metadata": {
  "kernelspec": {
   "display_name": "base",
   "language": "python",
   "name": "python3"
  },
  "language_info": {
   "codemirror_mode": {
    "name": "ipython",
    "version": 3
   },
   "file_extension": ".py",
   "mimetype": "text/x-python",
   "name": "python",
   "nbconvert_exporter": "python",
   "pygments_lexer": "ipython3",
   "version": "3.12.7"
  }
 },
 "nbformat": 4,
 "nbformat_minor": 5
}
