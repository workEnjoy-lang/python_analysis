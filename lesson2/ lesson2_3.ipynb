{
 "cells": [
  {
   "cell_type": "code",
   "execution_count": 2,
   "id": "e87e6dad",
   "metadata": {},
   "outputs": [
    {
     "name": "stdout",
     "output_type": "stream",
     "text": [
      "矩形的寬是:45.78,高是:92.57,面積是4237.8546\n"
     ]
    }
   ],
   "source": [
    "width = 45.78\n",
    "height = 92.57\n",
    "area = width * height\n",
    "\n",
    "print(f\"矩形的寬是:{width},高是:{height},面積是{area}\")"
   ]
  },
  {
   "cell_type": "code",
   "execution_count": 1,
   "id": "84ee3158",
   "metadata": {},
   "outputs": [
    {
     "name": "stdout",
     "output_type": "stream",
     "text": [
      "4032\n"
     ]
    }
   ],
   "source": [
    "n1=56*72\n",
    "print(n1)\n"
   ]
  }
 ],
 "metadata": {
  "kernelspec": {
   "display_name": "base",
   "language": "python",
   "name": "python3"
  },
  "language_info": {
   "codemirror_mode": {
    "name": "ipython",
    "version": 3
   },
   "file_extension": ".py",
   "mimetype": "text/x-python",
   "name": "python",
   "nbconvert_exporter": "python",
   "pygments_lexer": "ipython3",
   "version": "3.12.7"
  }
 },
 "nbformat": 4,
 "nbformat_minor": 5
}
