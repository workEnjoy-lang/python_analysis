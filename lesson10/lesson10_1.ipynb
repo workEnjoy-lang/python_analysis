{
 "cells": [
  {
   "cell_type": "markdown",
   "id": "56e887fe",
   "metadata": {},
   "source": [
    "### python取得目前專案內的names.txt的絕對位置\n",
    " - 請使用繁體中文回覆\n",
    " ### 範例1\n",
    "```\n",
    "import os\n",
    "\n",
    "# 假設 names.txt 在目前執行的程式碼所在目錄（或專案根目錄）\n",
    "file_name = \"names.txt\"\n",
    "\n",
    "# 取得絕對路徑\n",
    "abs_path = os.path.abspath(file_name)\n",
    "\n",
    "print(abs_path)\n",
    "```\n",
    "### 範例2\n",
    "```\n",
    "import os\n",
    "\n",
    "# 取得目前 Python 腳本的所在目錄\n",
    "current_dir = os.path.dirname(os.path.abspath(__file__))\n",
    "\n",
    "# 組合成 names.txt 的絕對路徑\n",
    "file_path = os.path.join(current_dir, \"names.txt\")\n",
    "\n",
    "print(file_path)\n",
    "```"
   ]
  },
  {
   "cell_type": "code",
   "execution_count": null,
   "id": "144ba15b",
   "metadata": {},
   "outputs": [
    {
     "data": {
      "text/plain": [
       "'/workspaces/python_analysis/lesson10/names.txt'"
      ]
     },
     "execution_count": 8,
     "metadata": {},
     "output_type": "execute_result"
    }
   ],
   "source": [
    "import os\n",
    "file_name:str = 'names.txt'\n",
    "abs_path:str = os.path.abspath(file_name)\n",
    "abs_path"
   ]
  }
 ],
 "metadata": {
  "kernelspec": {
   "display_name": "base",
   "language": "python",
   "name": "python3"
  },
  "language_info": {
   "codemirror_mode": {
    "name": "ipython",
    "version": 3
   },
   "file_extension": ".py",
   "mimetype": "text/x-python",
   "name": "python",
   "nbconvert_exporter": "python",
   "pygments_lexer": "ipython3",
   "version": "3.12.7"
  }
 },
 "nbformat": 4,
 "nbformat_minor": 5
}
