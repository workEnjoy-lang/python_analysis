{
 "cells": [
  {
   "cell_type": "code",
   "execution_count": 30,
   "id": "c3c7a0e6",
   "metadata": {},
   "outputs": [
    {
     "data": {
      "text/plain": [
       "'/workspaces/python_analysis/lesson10/names.txt'"
      ]
     },
     "execution_count": 30,
     "metadata": {},
     "output_type": "execute_result"
    }
   ],
   "source": [
    "import os\n",
    "file_name:str = 'names.txt'\n",
    "abs_path = os.path.abspath(file_name)\n",
    "abs_path"
   ]
  },
  {
   "cell_type": "code",
   "execution_count": 31,
   "id": "17d34f30",
   "metadata": {},
   "outputs": [],
   "source": [
    "import os\n",
    "file_name:str = 'names.txt'\n",
    "abs_path:str = os.path.abspath(file_name)\n",
    "with open(abs_path,encoding='utf-8')as file:\n",
    "    names:list[str] = file.readlines()\n",
    "    # new_names = []\n",
    "    # for name in names:\n",
    "    #     new_names.append(name.rstrip('\\n'))\n",
    "    names = [name.rstrip('\\n')for name in names] #list comprehensions\n",
    "\n",
    "    names"
   ]
  },
  {
   "cell_type": "markdown",
   "id": "46c9ac08",
   "metadata": {},
   "source": [
    "### names:str是python的list,如何使用亂數的方式取出5個姓名字串\n",
    " - 你可以使用 Python 的 random 模組中的 random.sample() 函數，從 names 這個 list 中隨機且不重複地取出 5 個姓名字串。\n",
    "\n",
    "範例如下:"
   ]
  },
  {
   "cell_type": "code",
   "execution_count": 32,
   "id": "4c3a3372",
   "metadata": {},
   "outputs": [
    {
     "data": {
      "text/plain": [
       "50"
      ]
     },
     "execution_count": 32,
     "metadata": {},
     "output_type": "execute_result"
    }
   ],
   "source": [
    "import random\n",
    "students_names:list[str] = random.sample(names,k=50)\n",
    "len(students_names)"
   ]
  }
 ],
 "metadata": {
  "kernelspec": {
   "display_name": "base",
   "language": "python",
   "name": "python3"
  },
  "language_info": {
   "codemirror_mode": {
    "name": "ipython",
    "version": 3
   },
   "file_extension": ".py",
   "mimetype": "text/x-python",
   "name": "python",
   "nbconvert_exporter": "python",
   "pygments_lexer": "ipython3",
   "version": "3.12.7"
  }
 },
 "nbformat": 4,
 "nbformat_minor": 5
}
