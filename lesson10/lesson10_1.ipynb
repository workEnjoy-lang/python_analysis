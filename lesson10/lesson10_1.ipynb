{
 "cells": [
  {
   "cell_type": "code",
   "execution_count": 9,
   "id": "c3c7a0e6",
   "metadata": {},
   "outputs": [
    {
     "data": {
      "text/plain": [
       "'/workspaces/python_analysis/lesson10/names.txt'"
      ]
     },
     "execution_count": 9,
     "metadata": {},
     "output_type": "execute_result"
    }
   ],
   "source": [
    "import os\n",
    "file_name:str = 'names.txt'\n",
    "abs_path = os.path.abspath(file_name)\n",
    "abs_path"
   ]
  },
  {
   "cell_type": "code",
   "execution_count": 13,
   "id": "17d34f30",
   "metadata": {},
   "outputs": [],
   "source": [
    "import os\n",
    "file_name:str = 'names.txt'\n",
    "abs_path:str = os.path.abspath(file_name)\n",
    "with open(abs_path,encoding='utf-8')as file:\n",
    "    names:list[str] = file.readlines()\n",
    "    # new_names = []\n",
    "    # for name in names:\n",
    "    #     new_names.append(name.rstrip('\\n'))\n",
    "    names = [name.rstrip('\\n')for name in names] #list comprehensions\n",
    "\n",
    "    "
   ]
  },
  {
   "cell_type": "markdown",
   "id": "46c9ac08",
   "metadata": {},
   "source": [
    "### names:str是python的list,如何使用亂數的方式取出5個姓名字串\n",
    " - 你可以使用 Python 的 random 模組中的 random.sample() 函數，從 names 這個 list 中隨機且不重複地取出 5 個姓名字串。\n",
    "\n",
    "範例如下:"
   ]
  },
  {
   "cell_type": "code",
   "execution_count": 11,
   "id": "6e9306e3",
   "metadata": {},
   "outputs": [],
   "source": [
    "import random\n",
    "names = [\"Alice\", \"Bob\", \"Charlie\", \"David\", \"Eva\", \"Frank\", \"Frace\",\"Helen\"]"
   ]
  },
  {
   "cell_type": "code",
   "execution_count": 14,
   "id": "55c8ddbc",
   "metadata": {},
   "outputs": [
    {
     "data": {
      "text/plain": [
       "[{'姓名': '張軒宸', '國文': 88, '英文': 79, '數學': 99},\n",
       " {'姓名': '陳怡珊', '國文': 79, '英文': 72, '數學': 60},\n",
       " {'姓名': '陳志偉', '國文': 90, '英文': 93, '數學': 76},\n",
       " {'姓名': '郭致恬', '國文': 80, '英文': 100, '數學': 70},\n",
       " {'姓名': '楊少亮', '國文': 84, '英文': 57, '數學': 71},\n",
       " {'姓名': '蔡至剛', '國文': 85, '英文': 57, '數學': 70},\n",
       " {'姓名': '張凡成', '國文': 68, '英文': 83, '數學': 65},\n",
       " {'姓名': '吳晴洋', '國文': 68, '英文': 65, '數學': 93},\n",
       " {'姓名': '王怡珊', '國文': 61, '英文': 62, '數學': 67},\n",
       " {'姓名': '楊偉翔', '國文': 97, '英文': 84, '數學': 61},\n",
       " {'姓名': '黃佩玲', '國文': 67, '英文': 98, '數學': 84},\n",
       " {'姓名': '陳彥治', '國文': 86, '英文': 61, '數學': 52},\n",
       " {'姓名': '郭淑真', '國文': 80, '英文': 70, '數學': 73},\n",
       " {'姓名': '錢佩豪', '國文': 68, '英文': 97, '數學': 98},\n",
       " {'姓名': '吳孟穎', '國文': 57, '英文': 50, '數學': 71},\n",
       " {'姓名': '蘇凡菁', '國文': 100, '英文': 83, '數學': 92},\n",
       " {'姓名': '沈心利', '國文': 61, '英文': 71, '數學': 88},\n",
       " {'姓名': '郭坤花', '國文': 57, '英文': 54, '數學': 79},\n",
       " {'姓名': '簡佳樺', '國文': 91, '英文': 99, '數學': 52},\n",
       " {'姓名': '白美珍', '國文': 72, '英文': 67, '數學': 74},\n",
       " {'姓名': '王人仰', '國文': 78, '英文': 56, '數學': 67},\n",
       " {'姓名': '王德城', '國文': 70, '英文': 69, '數學': 62},\n",
       " {'姓名': '王士銘', '國文': 55, '英文': 82, '數學': 84},\n",
       " {'姓名': '李彥伸', '國文': 63, '英文': 54, '數學': 91},\n",
       " {'姓名': '鄧哲榮', '國文': 87, '英文': 73, '數學': 62},\n",
       " {'姓名': '蘇婷婷', '國文': 94, '英文': 81, '數學': 54},\n",
       " {'姓名': '賴佳雯', '國文': 82, '英文': 76, '數學': 56},\n",
       " {'姓名': '潘英迪', '國文': 78, '英文': 94, '數學': 71},\n",
       " {'姓名': '余月修', '國文': 69, '英文': 53, '數學': 76},\n",
       " {'姓名': '簡美君', '國文': 82, '英文': 82, '數學': 53},\n",
       " {'姓名': '游淑惠', '國文': 61, '英文': 71, '數學': 79},\n",
       " {'姓名': '胡芳瑜', '國文': 75, '英文': 88, '數學': 53},\n",
       " {'姓名': '洪阿惠', '國文': 79, '英文': 100, '數學': 88},\n",
       " {'姓名': '謝哲維', '國文': 74, '英文': 69, '數學': 79},\n",
       " {'姓名': '陳倩妮', '國文': 51, '英文': 73, '數學': 98},\n",
       " {'姓名': '蕭怡伶', '國文': 72, '英文': 96, '數學': 94},\n",
       " {'姓名': '李進慧', '國文': 69, '英文': 69, '數學': 84},\n",
       " {'姓名': '黃麗美', '國文': 54, '英文': 50, '數學': 94},\n",
       " {'姓名': '劉雯芬', '國文': 56, '英文': 90, '數學': 91},\n",
       " {'姓名': '謝南慧', '國文': 70, '英文': 76, '數學': 59},\n",
       " {'姓名': '李慶亮', '國文': 97, '英文': 100, '數學': 63},\n",
       " {'姓名': '林佳光', '國文': 89, '英文': 69, '數學': 54},\n",
       " {'姓名': '王明昇', '國文': 67, '英文': 69, '數學': 67},\n",
       " {'姓名': '林希啟', '國文': 65, '英文': 96, '數學': 95},\n",
       " {'姓名': '黃雅慧', '國文': 64, '英文': 69, '數學': 100},\n",
       " {'姓名': '鄭淑珍', '國文': 58, '英文': 72, '數學': 61},\n",
       " {'姓名': '黃彥孝', '國文': 77, '英文': 88, '數學': 51},\n",
       " {'姓名': '蔡世馨', '國文': 100, '英文': 94, '數學': 55},\n",
       " {'姓名': '陳慧君', '國文': 66, '英文': 73, '數學': 94},\n",
       " {'姓名': '楊韻如', '國文': 91, '英文': 68, '數學': 53}]"
      ]
     },
     "execution_count": 14,
     "metadata": {},
     "output_type": "execute_result"
    }
   ],
   "source": [
    "import random\n",
    "students_names:list[str]= random.sample(names,k=50)\n",
    "students = []\n",
    "for name in students_names:\n",
    "    stu_dict = dict()\n",
    "    stu_dict[\"姓名\"] = name\n",
    "    stu_dict[\"國文\"] = random.randint(50, 100)\n",
    "    stu_dict[\"英文\"] = random.randint(50, 100)\n",
    "    stu_dict[\"數學\"] = random.randint(50, 100)\n",
    "    students.append(stu_dict)\n",
    "    \n",
    "students    "
   ]
  },
  {
   "cell_type": "code",
   "execution_count": 22,
   "id": "789e55b5",
   "metadata": {},
   "outputs": [
    {
     "name": "stdout",
     "output_type": "stream",
     "text": [
      "students.csv已經存檔\n"
     ]
    }
   ],
   "source": [
    "import csv\n",
    "from csv import DictWriter\n",
    "\n",
    "field_names:list[str] = list(students[0].keys())\n",
    "with open(\"students.csv\",mode='w',encoding='utf-8',newline='') as file:\n",
    "    writer:DictWriter = csv.DictWriter(file,field_names)\n",
    "    writer.writeheader()\n",
    "    writer.writerows(students)\n",
    "\n",
    "print(\"students.csv已經存檔\")\n",
    "\n"
   ]
  }
 ],
 "metadata": {
  "kernelspec": {
   "display_name": "base",
   "language": "python",
   "name": "python3"
  },
  "language_info": {
   "codemirror_mode": {
    "name": "ipython",
    "version": 3
   },
   "file_extension": ".py",
   "mimetype": "text/x-python",
   "name": "python",
   "nbconvert_exporter": "python",
   "pygments_lexer": "ipython3",
   "version": "3.12.7"
  }
 },
 "nbformat": 4,
 "nbformat_minor": 5
}
