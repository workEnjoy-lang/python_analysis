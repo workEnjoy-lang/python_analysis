{
 "cells": [
  {
   "cell_type": "code",
   "execution_count": 1,
   "id": "3e80a173",
   "metadata": {},
   "outputs": [
    {
     "name": "stdout",
     "output_type": "stream",
     "text": [
      "10\n"
     ]
    }
   ],
   "source": [
    "n = 10\n",
    "n + 1\n",
    "print(n) "
   ]
  },
  {
   "cell_type": "code",
   "execution_count": 2,
   "id": "42c402ed",
   "metadata": {},
   "outputs": [
    {
     "name": "stdout",
     "output_type": "stream",
     "text": [
      "11\n"
     ]
    }
   ],
   "source": [
    "n = 10\n",
    "n = n + 1\n",
    "print(n)"
   ]
  },
  {
   "cell_type": "code",
   "execution_count": 3,
   "id": "1550ea03",
   "metadata": {},
   "outputs": [
    {
     "name": "stdout",
     "output_type": "stream",
     "text": [
      "11\n"
     ]
    }
   ],
   "source": [
    "n = 10\n",
    "n += 1 #複合指定運算子\n",
    "print(n)"
   ]
  },
  {
   "cell_type": "code",
   "execution_count": 4,
   "id": "518f95c8",
   "metadata": {},
   "outputs": [
    {
     "name": "stdout",
     "output_type": "stream",
     "text": [
      "100\n"
     ]
    }
   ],
   "source": [
    "n = 10\n",
    "n *= 10 #複合指定運算子\n",
    "print(n)"
   ]
  },
  {
   "cell_type": "code",
   "execution_count": 5,
   "id": "a5e0d2a0",
   "metadata": {},
   "outputs": [
    {
     "name": "stdout",
     "output_type": "stream",
     "text": [
      "三數總和為:6.0\n"
     ]
    }
   ],
   "source": [
    "total = 0.0\n",
    "n = float(input(\"請輸入第一個數:\"))#按下運行時,依順序[請輸入第一個數]輸入數字:比如1\n",
    "total += n\n",
    "n = float(input(\"請輸入第二個數:\"))#按下運行時,依順序[請輸入第二個數]輸入數字:比如2\n",
    "total += n\n",
    "n = float(input(\"請輸入第三個數:\"))#按下運行時,依順序[請輸入第三個數]輸入數字:比如3\n",
    "total +=n\n",
    "\n",
    "print(f\"三數總和為:{total}\")#前面三個數輸入完成之後[三數總和為]:6"
   ]
  },
  {
   "cell_type": "code",
   "execution_count": null,
   "id": "41de63fa",
   "metadata": {},
   "outputs": [],
   "source": []
  }
 ],
 "metadata": {
  "kernelspec": {
   "display_name": "base",
   "language": "python",
   "name": "python3"
  },
  "language_info": {
   "codemirror_mode": {
    "name": "ipython",
    "version": 3
   },
   "file_extension": ".py",
   "mimetype": "text/x-python",
   "name": "python",
   "nbconvert_exporter": "python",
   "pygments_lexer": "ipython3",
   "version": "3.12.7"
  }
 },
 "nbformat": 4,
 "nbformat_minor": 5
}
