{
 "cells": [
  {
   "cell_type": "markdown",
   "id": "ba0faa42",
   "metadata": {},
   "source": [
    "##### 猜數字遊戲"
   ]
  },
  {
   "cell_type": "code",
   "execution_count": null,
   "id": "30a12b02",
   "metadata": {},
   "outputs": [
    {
     "name": "stdout",
     "output_type": "stream",
     "text": [
      "+++++++++猜數字遊戲+++++++++\n",
      "\n",
      "在小一點\n",
      "您已經猜了:1次\n",
      "再大一點\n",
      "您已經猜了:2次\n",
      "YES,猜對了, 答案是6\n",
      "您共猜了3次\n",
      "猜數字遊戲結束\n"
     ]
    }
   ],
   "source": [
    "import random\n",
    "min = 1\n",
    "max = 20 #可以自行調整大小\n",
    "count = 0\n",
    "target = random.randint(min, max)\n",
    "print(\"+++++++++猜數字遊戲+++++++++\\n\")#輸入2次\\n空二列,也可以輸入1次\\n空一列\n",
    "#print(target)\n",
    "while(True):\n",
    "    keyin = int(input(f'猜數字範圍{min}~{max}'))\n",
    "    count += 1\n",
    "    if(keyin >= min and keyin <= max):\n",
    "        if(keyin == target):\n",
    "            print(f\"YES,猜對了, 答案是{target}\")\n",
    "            print(f\"您共猜了{count}次\")\n",
    "            break\n",
    "        elif keyin < target:\n",
    "            print(\"再大一點\")\n",
    "            min = keyin + 1\n",
    "        elif keyin > target:\n",
    "            print(\"在小一點\")\n",
    "            max = keyin - 1\n",
    "        print(f\"您已經猜了:{count}次\")\n",
    "    else:\n",
    "        print(\"請輸入提示範圍內的數字\")\n",
    "\n",
    "print(\"猜數字遊戲結束\")"
   ]
  },
  {
   "cell_type": "code",
   "execution_count": 4,
   "id": "94f8cd55",
   "metadata": {},
   "outputs": [
    {
     "name": "stdout",
     "output_type": "stream",
     "text": [
      "輸入金額:100000\n",
      "實付金額是:80000.0\n"
     ]
    }
   ],
   "source": [
    "money:int=int(input(\"請輸入購買金額\"))\n",
    "if money < 10000:\n",
    "    pay_money = money\n",
    "elif money < 30000:\n",
    "    pay_money = money*0.95\n",
    "elif money < 50000:\n",
    "    pay_money = money*0.9\n",
    "elif money < 100000:\n",
    "    pay_money = money*0.85\n",
    "else:\n",
    "    pay_money = money*0.8\n",
    "\n",
    "print(f\"輸入金額:{money}\")\n",
    "print(f\"實付金額是:{pay_money}\")"
   ]
  }
 ],
 "metadata": {
  "kernelspec": {
   "display_name": "base",
   "language": "python",
   "name": "python3"
  },
  "language_info": {
   "codemirror_mode": {
    "name": "ipython",
    "version": 3
   },
   "file_extension": ".py",
   "mimetype": "text/x-python",
   "name": "python",
   "nbconvert_exporter": "python",
   "pygments_lexer": "ipython3",
   "version": "3.12.7"
  }
 },
 "nbformat": 4,
 "nbformat_minor": 5
}
