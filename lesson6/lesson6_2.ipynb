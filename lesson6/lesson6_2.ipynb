{
 "cells": [
  {
   "cell_type": "markdown",
   "id": "62488f24",
   "metadata": {},
   "source": [
    "##### 不知道執行次數的迴圈 while"
   ]
  },
  {
   "cell_type": "code",
   "execution_count": 3,
   "id": "0b38e8c0",
   "metadata": {},
   "outputs": [
    {
     "name": "stdout",
     "output_type": "stream",
     "text": [
      "恭喜,已經存夠了,存了2月,共存了30000元\n"
     ]
    }
   ],
   "source": [
    "#小明想要存錢買一輛機車,機車每輛30000元，他將每月存的錢輸入，當存款足夠買機車時，就顯示提示訊息告知。\n",
    "#你不知道要存幾個月\n",
    "#必需找到被比較的變數\n",
    "\n",
    "deposit = 0\n",
    "month = 0\n",
    "while(deposit < 30000):\n",
    "    month += 1\n",
    "    input_month = int(input(f\"請輸入第{month}月份的存款:\"))\n",
    "    deposit += input_month\n",
    "\n",
    "print(f\"恭喜,已經存夠了,存了{month}月,共存了{deposit}元\")"
   ]
  },
  {
   "cell_type": "code",
   "execution_count": 1,
   "id": "9cda0cf3",
   "metadata": {},
   "outputs": [
    {
     "name": "stdout",
     "output_type": "stream",
     "text": [
      "恭喜,已經存夠了,存了4月,共存了30000元\n"
     ]
    }
   ],
   "source": [
    "#小明想要存錢買一輛機車,機車每輛30000元，他將每月存的錢輸入，當存款足夠買機車時，就顯示提示訊息告知。\n",
    "#你不知道要存幾個月\n",
    "#必需找到被比較的變數\n",
    "\n",
    "deposit = 0\n",
    "month = 0\n",
    "while (True):\n",
    "    month += 1\n",
    "    input_month = int(input(f\"請輸入第{month}月份的存款:\"))\n",
    "    deposit += input_month\n",
    "    if (deposit>=30000):\n",
    "        break\n",
    "\n",
    "print(f\"恭喜,已經存夠了,存了{month}月,共存了{deposit}元\")"
   ]
  },
  {
   "cell_type": "markdown",
   "id": "f05313db",
   "metadata": {},
   "source": [
    "##### .奇數輸入平方  \n",
    "##### .偶數不做任何動作 \n",
    "##### .'q'要離開"
   ]
  },
  {
   "cell_type": "code",
   "execution_count": null,
   "id": "b2af2556",
   "metadata": {},
   "outputs": [
    {
     "name": "stdout",
     "output_type": "stream",
     "text": [
      "5的平方是25\n",
      "7的平方是49\n",
      "9的平方是81\n",
      "3的平方是9\n",
      "1的平方是1\n",
      "11的平方是121\n",
      "13的平方是169\n",
      "1的平方是1\n",
      "輸入錯誤,請從新輸入\n",
      "應用程式結束\n"
     ]
    }
   ],
   "source": [
    "while(True):\n",
    "    value = input('請輸入整數,輸入[q]離開:')#可以輸入1, 3, 5, 7, 9,...測試看看\n",
    "    if value == 'q':\n",
    "        break\n",
    "\n",
    "    try:\n",
    "        value = int(value)\n",
    "    except:\n",
    "        print(\"輸入錯誤,請從新輸入\")#多按一次Enter 也算是輸入錯誤\n",
    "        continue\n",
    "\n",
    "    if (value % 2 == 1):\n",
    "        print(f\"{value}的平方是{value**2}\")#相當於電腦上的計算機,有一個按鈕(x2)\n",
    "    #else:\n",
    "    #    continue\n",
    "print(\"應用程式結束\")"
   ]
  },
  {
   "cell_type": "markdown",
   "id": "d025df3c",
   "metadata": {},
   "source": [
    "##### 建立亂數"
   ]
  },
  {
   "cell_type": "code",
   "execution_count": 22,
   "id": "dc5c37d5",
   "metadata": {},
   "outputs": [
    {
     "data": {
      "text/plain": [
       "1"
      ]
     },
     "execution_count": 22,
     "metadata": {},
     "output_type": "execute_result"
    }
   ],
   "source": [
    "import random\n",
    "rand_num = random.randint(1, 10)#可以設定1~100或是1~10\n",
    "rand_num"
   ]
  }
 ],
 "metadata": {
  "kernelspec": {
   "display_name": "base",
   "language": "python",
   "name": "python3"
  },
  "language_info": {
   "codemirror_mode": {
    "name": "ipython",
    "version": 3
   },
   "file_extension": ".py",
   "mimetype": "text/x-python",
   "name": "python",
   "nbconvert_exporter": "python",
   "pygments_lexer": "ipython3",
   "version": "3.12.7"
  }
 },
 "nbformat": 4,
 "nbformat_minor": 5
}
