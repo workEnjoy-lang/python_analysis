{
 "cells": [
  {
   "cell_type": "code",
   "execution_count": null,
   "id": "1837c657",
   "metadata": {},
   "outputs": [],
   "source": [
    "import csv\n",
    "\n",
    "file_name:str = \"aqx_p_488.csv\"\n",
    "with open(file_name, newline='', encoding='utf-8') as csvfile:\n",
    "    reader = csv.DictReader(csvfile) #使用DisctReader 讀取成字典格式\n",
    "    sites = list(reader)\n",
    "\n",
    "pprint(sites)"
   ]
  },
  {
   "cell_type": "code",
   "execution_count": 1,
   "id": "a6265a51",
   "metadata": {},
   "outputs": [
    {
     "name": "stdout",
     "output_type": "stream",
     "text": [
      "pip 25.1 from /opt/conda/envs/myenv1/lib/python3.10/site-packages/pip (python 3.10)\n",
      "Note: you may need to restart the kernel to use updated packages.\n"
     ]
    }
   ],
   "source": [
    "%pip --version"
   ]
  }
 ],
 "metadata": {
  "kernelspec": {
   "display_name": "myenv1",
   "language": "python",
   "name": "python3"
  },
  "language_info": {
   "codemirror_mode": {
    "name": "ipython",
    "version": 3
   },
   "file_extension": ".py",
   "mimetype": "text/x-python",
   "name": "python",
   "nbconvert_exporter": "python",
   "pygments_lexer": "ipython3",
   "version": "3.10.16"
  }
 },
 "nbformat": 4,
 "nbformat_minor": 5
}
