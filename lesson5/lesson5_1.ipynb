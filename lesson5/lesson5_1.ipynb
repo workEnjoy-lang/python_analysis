{
 "cells": [
  {
   "cell_type": "markdown",
   "id": "09353b22",
   "metadata": {},
   "source": [
    "##### 巢狀判斷\n",
    "##### . 貓\n",
    "##### . 熊\n",
    "##### . 蜥蜴\n",
    "##### . 人類"
   ]
  },
  {
   "cell_type": "code",
   "execution_count": 4,
   "id": "2bce0e4f",
   "metadata": {},
   "outputs": [
    {
     "name": "stdout",
     "output_type": "stream",
     "text": [
      "熊\n"
     ]
    }
   ],
   "source": [
    "furry:bool = True\n",
    "small:bool = False\n",
    "\n",
    "if furry:\n",
    "    if small:\n",
    "        print(\"貓\")\n",
    "    else:\n",
    "        print(\"熊\")\n",
    "else:\n",
    "    if small:\n",
    "        print(\"小蜥蜴\")\n",
    "    else:\n",
    "        print(\"人類\")"
   ]
  },
  {
   "cell_type": "code",
   "execution_count": 5,
   "id": "bd6e5fda",
   "metadata": {},
   "outputs": [
    {
     "name": "stdout",
     "output_type": "stream",
     "text": [
      "學生等級:優\n"
     ]
    }
   ],
   "source": [
    "score:int = int (input(\"請輸入學生分數:\"))\n",
    "if score >= 80:\n",
    "    grade:str = '優'\n",
    "else:\n",
    "    #小於80\n",
    "    if scre >= 60:\n",
    "        #小於80同時大於等於60\n",
    "        frade:str = '及格'\n",
    "    else:\n",
    "        grade:str = '不及格'\n",
    "\n",
    "print(f\"學生等級:{grade}\")"
   ]
  },
  {
   "cell_type": "markdown",
   "id": "3cea6097",
   "metadata": {},
   "source": [
    "### 多項選擇"
   ]
  },
  {
   "cell_type": "code",
   "execution_count": 6,
   "id": "a66fce0c",
   "metadata": {},
   "outputs": [
    {
     "name": "stdout",
     "output_type": "stream",
     "text": [
      "學生等級:及格\n"
     ]
    }
   ],
   "source": [
    "score:int = int(input(\"請輸入學生分數\"))\n",
    "if score >= 80:\n",
    "    grade:str ='優'\n",
    "elif score >= 60:\n",
    "    grade:str = '及格'\n",
    "else:\n",
    "    grade:str = '不及格'\n",
    "\n",
    "print(f\"學生等級:{grade}\")"
   ]
  },
  {
   "cell_type": "markdown",
   "id": "b02e6729",
   "metadata": {},
   "source": [
    "#### 90(含)~100分為[優]\n",
    "#### 80(含)~89分為[甲]\n",
    "#### 70(含)~79分為[乙]\n",
    "#### 60(含)~69分為[丙]\n",
    "#### 0(含)~59分為[丁]"
   ]
  },
  {
   "cell_type": "code",
   "execution_count": 7,
   "id": "5ccdd8c3",
   "metadata": {},
   "outputs": [
    {
     "name": "stdout",
     "output_type": "stream",
     "text": [
      "學生等級:丙\n"
     ]
    }
   ],
   "source": [
    "score:int = int(input(\"請輸入學生分數:\"))\n",
    "if score >= 90:\n",
    "    grade:str = '優'\n",
    "elif score >= 80:\n",
    "    grade:str = '甲'\n",
    "elif score >= 70:\n",
    "    grade:str = '乙'\n",
    "elif score >= 60:\n",
    "    grade:str = '丙'\n",
    "else:\n",
    "    grade:str = '丁'\n",
    "print(f\"學生等級:{grade}\")"
   ]
  },
  {
   "cell_type": "markdown",
   "id": "2f31016d",
   "metadata": {},
   "source": [
    "##### 輸入顧客購買金額,若金額在\n",
    "\n",
    "##### 100000元打8折.\n",
    "##### 50000元打85折.\n",
    "##### 30000元打9折.\n",
    "##### 10000元打95折.\n",
    "##### \n",
    "##### 請輸入購買金額:130000元\n",
    "##### \n",
    "##### 實付金額是:104000.0元"
   ]
  },
  {
   "cell_type": "code",
   "execution_count": 8,
   "id": "2c48829e",
   "metadata": {},
   "outputs": [
    {
     "name": "stdout",
     "output_type": "stream",
     "text": [
      "實付金額是:pay_money\n"
     ]
    }
   ],
   "source": [
    "money:int = int(input(\"請輸入購買金額:\"))\n",
    "if money < 10000:\n",
    "    pay_money:int = money\n",
    "\n",
    "print(f\"實付金額是:pay_money\")"
   ]
  },
  {
   "cell_type": "markdown",
   "id": "7dea3e45",
   "metadata": {},
   "source": [
    "##### 巢狀判斷"
   ]
  },
  {
   "cell_type": "code",
   "execution_count": 10,
   "id": "81666870",
   "metadata": {},
   "outputs": [
    {
     "name": "stdout",
     "output_type": "stream",
     "text": [
      "獎金:500\n"
     ]
    }
   ],
   "source": [
    "# 國文100同時數學100,獎金1000\n",
    "# 只有一科100分,獎金500\n",
    "chinese = int(input(\"請輸入國文分數\"))\n",
    "math = int(input(\"請輸入數學分數\"))\n",
    "#巢狀判斷\n",
    "bonus = 0\n",
    "if chinese == 100:\n",
    "\n",
    "    if math == 100:\n",
    "        bonus = 1000\n",
    "    else:\n",
    "        bonus = 500\n",
    "elif math == 100:\n",
    "    bonus = 500\n",
    "\n",
    "print(f\"獎金:{bonus}\")"
   ]
  },
  {
   "cell_type": "markdown",
   "id": "37ad654c",
   "metadata": {},
   "source": [
    "##### 邏輯運算子"
   ]
  },
  {
   "cell_type": "code",
   "execution_count": 11,
   "id": "470560ae",
   "metadata": {},
   "outputs": [
    {
     "name": "stdout",
     "output_type": "stream",
     "text": [
      "獎金:500\n"
     ]
    }
   ],
   "source": [
    "# 國文100同時數學100,獎金1000\n",
    "# 只有一科100分,獎金500\n",
    "chinese = int(input(\"請輸入國文分數\"))\n",
    "math = int(input(\"請輸入數學分數\"))\n",
    "#邏輯運算子\n",
    "#bonus = 0\n",
    "if chinese == 100 and math == 100:\n",
    "    bonus = 1000\n",
    "elif chinese ==100 or math ==100:\n",
    "    bonus = 500\n",
    "else:\n",
    "    bunus = 0\n",
    "print(f\"獎金:{bonus}\")"
   ]
  },
  {
   "cell_type": "markdown",
   "id": "56deff9d",
   "metadata": {},
   "source": [
    "##### not 使用的方法\n",
    "##### . True區塊和False區塊,對調"
   ]
  },
  {
   "cell_type": "code",
   "execution_count": 27,
   "id": "eb5b356a",
   "metadata": {},
   "outputs": [
    {
     "name": "stdout",
     "output_type": "stream",
     "text": [
      "可以考駕照\n"
     ]
    }
   ],
   "source": [
    "age = int(input(\"請輸入age:\"))\n",
    "if age >= 18:\n",
    "    print(\"可以考駕照\")\n",
    "else:\n",
    "    print(\"不可以考駕照\")"
   ]
  },
  {
   "cell_type": "code",
   "execution_count": 32,
   "id": "af18e685",
   "metadata": {},
   "outputs": [
    {
     "name": "stdout",
     "output_type": "stream",
     "text": [
      "可以考駕照\n"
     ]
    }
   ],
   "source": [
    "age = int(input(\"請輸入age:\"))\n",
    "if not age > 18:\n",
    "    print(\"可以考駕照\")\n",
    "else:\n",
    "    print(\"不可以考駕照\")"
   ]
  }
 ],
 "metadata": {
  "kernelspec": {
   "display_name": "base",
   "language": "python",
   "name": "python3"
  },
  "language_info": {
   "codemirror_mode": {
    "name": "ipython",
    "version": 3
   },
   "file_extension": ".py",
   "mimetype": "text/x-python",
   "name": "python",
   "nbconvert_exporter": "python",
   "pygments_lexer": "ipython3",
   "version": "3.12.7"
  }
 },
 "nbformat": 4,
 "nbformat_minor": 5
}
