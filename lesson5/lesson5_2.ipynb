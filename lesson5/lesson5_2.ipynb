{
 "cells": [
  {
   "cell_type": "markdown",
   "id": "aeb55c97",
   "metadata": {},
   "source": [
    "##### rang(10)會傳出串列資料(Sequence data type)"
   ]
  },
  {
   "cell_type": "code",
   "execution_count": null,
   "id": "3bac63c5",
   "metadata": {},
   "outputs": [
    {
     "data": {
      "text/plain": [
       "range(0, 8)"
      ]
     },
     "execution_count": 2,
     "metadata": {},
     "output_type": "execute_result"
    }
   ],
   "source": [
    "zero_to_nine:range = range(8) #輸入不一樣的數值就會改變\n",
    "zero_to_nine"
   ]
  },
  {
   "cell_type": "code",
   "execution_count": null,
   "id": "fef0699d",
   "metadata": {},
   "outputs": [
    {
     "name": "stdout",
     "output_type": "stream",
     "text": [
      "0\n",
      "1\n",
      "2\n",
      "3\n",
      "4\n",
      "5\n",
      "6\n",
      "7\n"
     ]
    }
   ],
   "source": [
    "for ele in range(8): #8個數值包含0,電腦的運算第一個數值是0\n",
    "    print(ele)"
   ]
  },
  {
   "cell_type": "code",
   "execution_count": 13,
   "id": "9dda35d1",
   "metadata": {},
   "outputs": [
    {
     "name": "stdout",
     "output_type": "stream",
     "text": [
      "5\n",
      "6\n",
      "7\n"
     ]
    }
   ],
   "source": [
    "for ele in range(5,8):#由左至右輸入數值,左邊數值要比右邊小\n",
    "    print(ele)"
   ]
  },
  {
   "cell_type": "code",
   "execution_count": 18,
   "id": "dae36632",
   "metadata": {},
   "outputs": [
    {
     "name": "stdout",
     "output_type": "stream",
     "text": [
      "1\n",
      "4\n",
      "7\n",
      "10\n",
      "13\n"
     ]
    }
   ],
   "source": [
    "for ele in range(1, 15, 3):#由左至右,左邊第一個數值1,中間是尾數,右邊是加上去的數值\n",
    "    print(ele)"
   ]
  },
  {
   "cell_type": "code",
   "execution_count": 19,
   "id": "116dbb9e",
   "metadata": {},
   "outputs": [
    {
     "data": {
      "text/plain": [
       "55"
      ]
     },
     "execution_count": 19,
     "metadata": {},
     "output_type": "execute_result"
    }
   ],
   "source": [
    "#1~10的總數\n",
    "total = 0\n",
    "total += 1\n",
    "total += 2\n",
    "total += 3\n",
    "total += 4\n",
    "total += 5\n",
    "total += 6\n",
    "total += 7\n",
    "total += 8\n",
    "total += 9\n",
    "total += 10\n",
    "total"
   ]
  },
  {
   "cell_type": "markdown",
   "id": "2c574cb0",
   "metadata": {},
   "source": [
    "##### 如果明確知道執行的次數,請使用for in 迴圈"
   ]
  },
  {
   "cell_type": "code",
   "execution_count": 20,
   "id": "1fe8d093",
   "metadata": {},
   "outputs": [
    {
     "name": "stdout",
     "output_type": "stream",
     "text": [
      "5050\n"
     ]
    }
   ],
   "source": [
    "total = 0\n",
    "for i in range(1,101):\n",
    "    total += i\n",
    "print(total)"
   ]
  },
  {
   "cell_type": "markdown",
   "id": "300cdea1",
   "metadata": {},
   "source": [
    "##### _省略運算子"
   ]
  },
  {
   "cell_type": "code",
   "execution_count": 21,
   "id": "7f3b47df",
   "metadata": {},
   "outputs": [
    {
     "name": "stdout",
     "output_type": "stream",
     "text": [
      "上班很重要\n",
      "上班很重要\n",
      "上班很重要\n",
      "上班很重要\n"
     ]
    }
   ],
   "source": [
    "for _ in range(4):\n",
    "    print(\"上班很重要\")"
   ]
  },
  {
   "cell_type": "markdown",
   "id": "7de79d18",
   "metadata": {},
   "source": [
    "##### 字串,也是Sequence"
   ]
  },
  {
   "cell_type": "code",
   "execution_count": 22,
   "id": "826cca6e",
   "metadata": {},
   "outputs": [
    {
     "name": "stdout",
     "output_type": "stream",
     "text": [
      "上\n",
      "班\n",
      "很\n",
      "重\n",
      "要\n"
     ]
    }
   ],
   "source": [
    "for word in '上班很重要':\n",
    "    print(word)"
   ]
  }
 ],
 "metadata": {
  "kernelspec": {
   "display_name": "base",
   "language": "python",
   "name": "python3"
  },
  "language_info": {
   "codemirror_mode": {
    "name": "ipython",
    "version": 3
   },
   "file_extension": ".py",
   "mimetype": "text/x-python",
   "name": "python",
   "nbconvert_exporter": "python",
   "pygments_lexer": "ipython3",
   "version": "3.12.7"
  }
 },
 "nbformat": 4,
 "nbformat_minor": 5
}
