{
 "cells": [
  {
   "cell_type": "markdown",
   "id": "093fead8",
   "metadata": {},
   "source": [
    "## if->流程控制"
   ]
  },
  {
   "cell_type": "markdown",
   "id": "fe78e853",
   "metadata": {},
   "source": [
    "**單向選擇**"
   ]
  },
  {
   "cell_type": "code",
   "execution_count": 1,
   "id": "078f5dcc",
   "metadata": {},
   "outputs": [
    {
     "name": "stdout",
     "output_type": "stream",
     "text": [
      "這是單向選擇\n",
      "這是True的程式區塊\n"
     ]
    }
   ],
   "source": [
    "if True:\n",
    "    print(\"這是單向選擇\")\n",
    "    print(\"這是True的程式區塊\")"
   ]
  },
  {
   "cell_type": "markdown",
   "id": "5412a1ef",
   "metadata": {},
   "source": [
    "**雙向選擇**"
   ]
  },
  {
   "cell_type": "code",
   "execution_count": 2,
   "id": "7554ab26",
   "metadata": {},
   "outputs": [
    {
     "name": "stdout",
     "output_type": "stream",
     "text": [
      "這是雙向選擇\n",
      "這是True的程式區塊\n"
     ]
    }
   ],
   "source": [
    "if True:\n",
    "    print(\"這是雙向選擇\")\n",
    "    print(\"這是True的程式區塊\")\n",
    "else:\n",
    "    print(\"這是雙向選擇\")\n",
    "    print(\"這是False的程式區塊\")"
   ]
  },
  {
   "cell_type": "code",
   "execution_count": 3,
   "id": "12913260",
   "metadata": {},
   "outputs": [
    {
     "data": {
      "text/plain": [
       "False"
      ]
     },
     "execution_count": 3,
     "metadata": {},
     "output_type": "execute_result"
    }
   ],
   "source": [
    "5>3\n",
    "20==20\n",
    "20!=20\n"
   ]
  },
  {
   "cell_type": "code",
   "execution_count": 5,
   "id": "fbb4c011",
   "metadata": {},
   "outputs": [
    {
     "name": "stdout",
     "output_type": "stream",
     "text": [
      "成年\n"
     ]
    }
   ],
   "source": [
    "age = int(input(\"請輸入age:\"))\n",
    "if age >=18:\n",
    "    print(\"成年\")\n",
    "else:\n",
    "    print(\"未成年\")"
   ]
  },
  {
   "cell_type": "markdown",
   "id": "dd518682",
   "metadata": {},
   "source": [
    "### 學生總分為300\n",
    "### 有些學生可以加分5%\n",
    "### 如果加分超過300,就以300分為準"
   ]
  },
  {
   "cell_type": "code",
   "execution_count": null,
   "id": "f567c43d",
   "metadata": {},
   "outputs": [
    {
     "name": "stdout",
     "output_type": "stream",
     "text": [
      "學生分數是:289\n"
     ]
    }
   ],
   "source": [
    "scores = int(input(\"請輸入學生分數(最高分300分):\"))\n",
    "is_add = input(\"學生是否符合加分條件?(y,n)\")\n",
    "if (is_add == \"y\"):\n",
    "    scores *=1.05\n",
    "print(f\"學生分數是:{round(scores)}\") #"
   ]
  },
  {
   "cell_type": "code",
   "execution_count": null,
   "id": "99e1cdfc",
   "metadata": {},
   "outputs": [
    {
     "name": "stdout",
     "output_type": "stream",
     "text": [
      "學生分數是:300\n"
     ]
    }
   ],
   "source": [
    "scores = int(input(\"請輸入學生分數(最高300分)\"))\n",
    "is_add = input(\"學生是否符合加分條件?(y,n)\")\n",
    "if(is_add ==\"y\"):\n",
    "    scores *= 1.05\n",
    "    if scores >= 300:\n",
    "        scores =300\n",
    "        \n",
    "\n",
    "        print(f\"學生分數是:{round(scores)}\")"
   ]
  },
  {
   "cell_type": "markdown",
   "id": "5337332b",
   "metadata": {},
   "source": [
    "### 處理raise Exception ** try: except:處理錯誤"
   ]
  },
  {
   "cell_type": "code",
   "execution_count": null,
   "id": "1b28925a",
   "metadata": {},
   "outputs": [
    {
     "name": "stdout",
     "output_type": "stream",
     "text": [
      "發生錯誤\n",
      "程式結束\n"
     ]
    }
   ],
   "source": [
    "try:\n",
    "    25/0\n",
    "except:\n",
    "    print(\"發生錯誤\")\n",
    "\n",
    "print(\"程式結束\")"
   ]
  },
  {
   "cell_type": "code",
   "execution_count": null,
   "id": "f6a70422",
   "metadata": {},
   "outputs": [
    {
     "name": "stdout",
     "output_type": "stream",
     "text": [
      "25.0\n",
      "程式錯誤\n"
     ]
    }
   ],
   "source": [
    "divitionBy =1  #數值0為except(發生錯誤) 數值1為,程式錯誤\n",
    "try:\n",
    "    print(25/divitionBy)\n",
    "except:\n",
    "    print(\"發生錯誤\")\n",
    "\n",
    "print(\"程式錯誤\")"
   ]
  },
  {
   "cell_type": "markdown",
   "id": "c7a3ec68",
   "metadata": {},
   "source": [
    "### 多個except"
   ]
  },
  {
   "cell_type": "code",
   "execution_count": null,
   "id": "0c454415",
   "metadata": {},
   "outputs": [
    {
     "name": "stdout",
     "output_type": "stream",
     "text": [
      "發生不知名的錯誤\n",
      "程式錯誤\n"
     ]
    }
   ],
   "source": [
    "divitionBy = 0  \n",
    "try:\n",
    "    print(30/\"10\")\n",
    "    print(25/divitionBy)\n",
    "except ZeroDivisionError:\n",
    "    print(\"除數不可以是0\")\n",
    "except:\n",
    "    print(\"發生不知名的錯誤\")\n",
    "\n",
    "print(\"程式錯誤\")"
   ]
  },
  {
   "cell_type": "code",
   "execution_count": 3,
   "id": "e62ce814",
   "metadata": {},
   "outputs": [
    {
     "name": "stdout",
     "output_type": "stream",
     "text": [
      "學生分數是:300\n",
      "應用程式結束\n"
     ]
    }
   ],
   "source": [
    "try:\n",
    "    scores = int(input(\"請輸入學生分數(最高300分)\"))\n",
    "    is_add = input(\"學生是否符合加分條件?(y,n)\")\n",
    "    if(is_add ==\"y\"):\n",
    "        scores *= 1.05\n",
    "        if scores >= 300:\n",
    "            scores =300\n",
    "        \n",
    "\n",
    "    print(f\"學生分數是:{round(scores)}\")\n",
    "except:\n",
    "    print(\"發生不知名錯誤\")\n",
    "print(\"應用程式結束\")"
   ]
  }
 ],
 "metadata": {
  "kernelspec": {
   "display_name": "base",
   "language": "python",
   "name": "python3"
  },
  "language_info": {
   "codemirror_mode": {
    "name": "ipython",
    "version": 3
   },
   "file_extension": ".py",
   "mimetype": "text/x-python",
   "name": "python",
   "nbconvert_exporter": "python",
   "pygments_lexer": "ipython3",
   "version": "3.12.7"
  }
 },
 "nbformat": 4,
 "nbformat_minor": 5
}
