{
 "cells": [
  {
   "cell_type": "markdown",
   "id": "79373c67",
   "metadata": {},
   "source": [
    "## 計算3角形的角度"
   ]
  },
  {
   "cell_type": "code",
   "execution_count": 4,
   "id": "b2b5c6a1",
   "metadata": {},
   "outputs": [
    {
     "name": "stdout",
     "output_type": "stream",
     "text": [
      "對邊 2.5\n",
      "斜邊 5.0\n",
      "徑角 0.5235987755982989\n",
      "角度 30.0\n"
     ]
    }
   ],
   "source": [
    "import math\n",
    "\n",
    "side = float(input(\"請輸入對邊\")) #按下運算時,輸入對邊數值後往左float,最後進入[side]\n",
    "another_side = float(input(\"請輸入斜邊\")) #按下運算時,輸入斜邊數值後往左float,最後進入[another_side]\n",
    "radians = math.asin(side/another_side)\n",
    "degree = math.degrees(radians)\n",
    "\n",
    "print(\"對邊\",side)\n",
    "print(\"斜邊\",another_side)\n",
    "print(\"徑角\",radians)\n",
    "print(\"角度\",round(degree,ndigits=2))"
   ]
  },
  {
   "cell_type": "markdown",
   "id": "bf202a11",
   "metadata": {},
   "source": [
    "## tuple"
   ]
  },
  {
   "cell_type": "code",
   "execution_count": 6,
   "id": "14deac83",
   "metadata": {},
   "outputs": [
    {
     "data": {
      "text/plain": [
       "(56, 79, 68)"
      ]
     },
     "execution_count": 6,
     "metadata": {},
     "output_type": "execute_result"
    }
   ],
   "source": [
    " 56, 79, 68"
   ]
  },
  {
   "cell_type": "markdown",
   "id": "856a39a5",
   "metadata": {},
   "source": [
    "### 大學的統計,標準差"
   ]
  },
  {
   "cell_type": "code",
   "execution_count": 7,
   "id": "10773b66",
   "metadata": {},
   "outputs": [
    {
     "name": "stdout",
     "output_type": "stream",
     "text": [
      "25.0 27.0 29.0\n",
      "平均:27.00\n",
      "標準差:2.00\n"
     ]
    }
   ],
   "source": [
    "import statistics\n",
    "\n",
    "n1=float(input(\"請輸入地1個數:\"))\n",
    "n2=float(input(\"請輸入地2個數:\"))\n",
    "n3=float(input(\"請輸入地3個數:\"))\n",
    "average = statistics.mean((n1, n2, n3))\n",
    "std = statistics.stdev((n1, n2, n3))\n",
    "print(n1, n2, n3)\n",
    "print(f\"平均:{average:.2f}\")\n",
    "print(f\"標準差:{std:.2f}\")"
   ]
  }
 ],
 "metadata": {
  "kernelspec": {
   "display_name": "base",
   "language": "python",
   "name": "python3"
  },
  "language_info": {
   "codemirror_mode": {
    "name": "ipython",
    "version": 3
   },
   "file_extension": ".py",
   "mimetype": "text/x-python",
   "name": "python",
   "nbconvert_exporter": "python",
   "pygments_lexer": "ipython3",
   "version": "3.12.7"
  }
 },
 "nbformat": 4,
 "nbformat_minor": 5
}
