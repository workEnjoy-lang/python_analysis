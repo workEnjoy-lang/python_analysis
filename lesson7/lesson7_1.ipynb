{
 "cells": [
  {
   "cell_type": "code",
   "execution_count": 2,
   "id": "714d6e81",
   "metadata": {},
   "outputs": [
    {
     "name": "stdout",
     "output_type": "stream",
     "text": [
      "身高:170cm\n",
      "體重:50kg\n",
      "BMI:17.3\n",
      "狀態:體重過重\n"
     ]
    }
   ],
   "source": [
    "height:int = int(input(\"請輸入身高公分\"))\n",
    "weight:int = int(input(\"請輸入體重公斤\"))\n",
    "BMI = round(weight/pow(height/100,2),1)\n",
    "\n",
    "print(f\"身高:{height}\"\"cm\")\n",
    "print(f\"體重:{weight}\"\"kg\")\n",
    "print(f\"BMI:{BMI}\")\n",
    "\n",
    "if BMI < 18.5:\n",
    "    status = \"體重過重\"\n",
    "elif BMI < 24:\n",
    "    status = \"正常\"\n",
    "elif BMI < 27:\n",
    "    status = \"過重\"\n",
    "elif BMI < 35:\n",
    "    status = \"輕度肥胖\"\n",
    "else:\n",
    "    status = \"重度肥胖\"\n",
    "print(f\"狀態:{status}\")"
   ]
  },
  {
   "cell_type": "code",
   "execution_count": 3,
   "id": "4520e61d",
   "metadata": {},
   "outputs": [
    {
     "data": {
      "text/plain": [
       "{'__name__': '__main__',\n",
       " '__doc__': 'Automatically created module for IPython interactive environment',\n",
       " '__package__': None,\n",
       " '__loader__': None,\n",
       " '__spec__': None,\n",
       " '__builtin__': <module 'builtins' (built-in)>,\n",
       " '__builtins__': <module 'builtins' (built-in)>,\n",
       " '_ih': ['',\n",
       "  'height:int = int(input(\"請輸入身高公分\"))\\nweight:int = int(input(\"請輸入體重公斤\"))\\nBMI = round(weight/pow(height/100,2),1)\\n\\nprint(f\"身高:{height}\"\"cm\")\\nprint(f\"體重:{weight}\"\"kg\")\\nprint(f\"BMI:{BMI}\")\\n\\nif BMI < 18.5;\\n    status = \"體重過重\"\\nelif BMI < 24:\\n    status = \"正常\"\\nelif BMI < 27:\\n    status = \"過重\"\\nelif BMI < 35:\\n    status = \"輕度肥胖\"\\nelse:\\n    status = \"重度肥胖\"\\nprint(f\"狀態:{status}\")',\n",
       "  'height:int = int(input(\"請輸入身高公分\"))\\nweight:int = int(input(\"請輸入體重公斤\"))\\nBMI = round(weight/pow(height/100,2),1)\\n\\nprint(f\"身高:{height}\"\"cm\")\\nprint(f\"體重:{weight}\"\"kg\")\\nprint(f\"BMI:{BMI}\")\\n\\nif BMI < 18.5:\\n    status = \"體重過重\"\\nelif BMI < 24:\\n    status = \"正常\"\\nelif BMI < 27:\\n    status = \"過重\"\\nelif BMI < 35:\\n    status = \"輕度肥胖\"\\nelse:\\n    status = \"重度肥胖\"\\nprint(f\"狀態:{status}\")',\n",
       "  'vars()'],\n",
       " '_oh': {},\n",
       " '_dh': [PosixPath('/workspaces/python_analysis/lesson7')],\n",
       " 'In': ['',\n",
       "  'height:int = int(input(\"請輸入身高公分\"))\\nweight:int = int(input(\"請輸入體重公斤\"))\\nBMI = round(weight/pow(height/100,2),1)\\n\\nprint(f\"身高:{height}\"\"cm\")\\nprint(f\"體重:{weight}\"\"kg\")\\nprint(f\"BMI:{BMI}\")\\n\\nif BMI < 18.5;\\n    status = \"體重過重\"\\nelif BMI < 24:\\n    status = \"正常\"\\nelif BMI < 27:\\n    status = \"過重\"\\nelif BMI < 35:\\n    status = \"輕度肥胖\"\\nelse:\\n    status = \"重度肥胖\"\\nprint(f\"狀態:{status}\")',\n",
       "  'height:int = int(input(\"請輸入身高公分\"))\\nweight:int = int(input(\"請輸入體重公斤\"))\\nBMI = round(weight/pow(height/100,2),1)\\n\\nprint(f\"身高:{height}\"\"cm\")\\nprint(f\"體重:{weight}\"\"kg\")\\nprint(f\"BMI:{BMI}\")\\n\\nif BMI < 18.5:\\n    status = \"體重過重\"\\nelif BMI < 24:\\n    status = \"正常\"\\nelif BMI < 27:\\n    status = \"過重\"\\nelif BMI < 35:\\n    status = \"輕度肥胖\"\\nelse:\\n    status = \"重度肥胖\"\\nprint(f\"狀態:{status}\")',\n",
       "  'vars()'],\n",
       " 'Out': {},\n",
       " 'get_ipython': <bound method InteractiveShell.get_ipython of <ipykernel.zmqshell.ZMQInteractiveShell object at 0x72acc823cc50>>,\n",
       " 'exit': <IPython.core.autocall.ZMQExitAutocall at 0x72acc823c050>,\n",
       " 'quit': <IPython.core.autocall.ZMQExitAutocall at 0x72acc823c050>,\n",
       " 'open': <function _io.open(file, mode='r', buffering=-1, encoding=None, errors=None, newline=None, closefd=True, opener=None)>,\n",
       " '_': '',\n",
       " '__': '',\n",
       " '___': '',\n",
       " '__vsc_ipynb_file__': '/workspaces/python_analysis/lesson7/lesson7_1.ipynb',\n",
       " '_i': 'height:int = int(input(\"請輸入身高公分\"))\\nweight:int = int(input(\"請輸入體重公斤\"))\\nBMI = round(weight/pow(height/100,2),1)\\n\\nprint(f\"身高:{height}\"\"cm\")\\nprint(f\"體重:{weight}\"\"kg\")\\nprint(f\"BMI:{BMI}\")\\n\\nif BMI < 18.5:\\n    status = \"體重過重\"\\nelif BMI < 24:\\n    status = \"正常\"\\nelif BMI < 27:\\n    status = \"過重\"\\nelif BMI < 35:\\n    status = \"輕度肥胖\"\\nelse:\\n    status = \"重度肥胖\"\\nprint(f\"狀態:{status}\")',\n",
       " '_ii': 'height:int = int(input(\"請輸入身高公分\"))\\nweight:int = int(input(\"請輸入體重公斤\"))\\nBMI = round(weight/pow(height/100,2),1)\\n\\nprint(f\"身高:{height}\"\"cm\")\\nprint(f\"體重:{weight}\"\"kg\")\\nprint(f\"BMI:{BMI}\")\\n\\nif BMI < 18.5;\\n    status = \"體重過重\"\\nelif BMI < 24:\\n    status = \"正常\"\\nelif BMI < 27:\\n    status = \"過重\"\\nelif BMI < 35:\\n    status = \"輕度肥胖\"\\nelse:\\n    status = \"重度肥胖\"\\nprint(f\"狀態:{status}\")',\n",
       " '_iii': '',\n",
       " '_i1': 'height:int = int(input(\"請輸入身高公分\"))\\nweight:int = int(input(\"請輸入體重公斤\"))\\nBMI = round(weight/pow(height/100,2),1)\\n\\nprint(f\"身高:{height}\"\"cm\")\\nprint(f\"體重:{weight}\"\"kg\")\\nprint(f\"BMI:{BMI}\")\\n\\nif BMI < 18.5;\\n    status = \"體重過重\"\\nelif BMI < 24:\\n    status = \"正常\"\\nelif BMI < 27:\\n    status = \"過重\"\\nelif BMI < 35:\\n    status = \"輕度肥胖\"\\nelse:\\n    status = \"重度肥胖\"\\nprint(f\"狀態:{status}\")',\n",
       " '_i2': 'height:int = int(input(\"請輸入身高公分\"))\\nweight:int = int(input(\"請輸入體重公斤\"))\\nBMI = round(weight/pow(height/100,2),1)\\n\\nprint(f\"身高:{height}\"\"cm\")\\nprint(f\"體重:{weight}\"\"kg\")\\nprint(f\"BMI:{BMI}\")\\n\\nif BMI < 18.5:\\n    status = \"體重過重\"\\nelif BMI < 24:\\n    status = \"正常\"\\nelif BMI < 27:\\n    status = \"過重\"\\nelif BMI < 35:\\n    status = \"輕度肥胖\"\\nelse:\\n    status = \"重度肥胖\"\\nprint(f\"狀態:{status}\")',\n",
       " '__annotations__': {'height': int, 'weight': int},\n",
       " 'height': 170,\n",
       " 'weight': 50,\n",
       " 'BMI': 17.3,\n",
       " 'status': '體重過重',\n",
       " '_i3': 'vars()'}"
      ]
     },
     "execution_count": 3,
     "metadata": {},
     "output_type": "execute_result"
    }
   ],
   "source": [
    "vars()\n"
   ]
  }
 ],
 "metadata": {
  "kernelspec": {
   "display_name": "base",
   "language": "python",
   "name": "python3"
  },
  "language_info": {
   "codemirror_mode": {
    "name": "ipython",
    "version": 3
   },
   "file_extension": ".py",
   "mimetype": "text/x-python",
   "name": "python",
   "nbconvert_exporter": "python",
   "pygments_lexer": "ipython3",
   "version": "3.12.7"
  }
 },
 "nbformat": 4,
 "nbformat_minor": 5
}
