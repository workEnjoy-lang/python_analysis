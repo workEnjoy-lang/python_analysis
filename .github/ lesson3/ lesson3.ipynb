{
 "cells": [
  {
   "cell_type": "markdown",
   "id": "23496006",
   "metadata": {},
   "source": [
    "## 這是第3節上課內容"
   ]
  },
  {
   "cell_type": "code",
   "execution_count": 1,
   "id": "1c023f84",
   "metadata": {},
   "outputs": [
    {
     "name": "stdout",
     "output_type": "stream",
     "text": [
      "矩形的寬:345.8 高:254.896 面積是88143.04\n"
     ]
    }
   ],
   "source": [
    "width = 345.8\n",
    "height = 254.896\n",
    "type (width)\n",
    "type (height) \n",
    "area = width * height\n",
    "type (area)\n",
    "print(f\"矩形的寬:{width} 高:{height} 面積是{round(area,ndigits=2)}\")\n",
    "#print   (f\"矩形的寬:{width} 高:{height} 面積是{round(area,ndigits=2)}\")\n",
    "#print[5](f[4]矩形的寬:{width}[1] 高:{height}[2] 面積是{round(area,ndigits=2)}[3] \") 輸入函示依照順序處理[1][2][3][4][5]"
   ]
  },
  {
   "cell_type": "markdown",
   "id": "9af707da",
   "metadata": {},
   "source": [
    "## 重點是 input()"
   ]
  },
  {
   "cell_type": "code",
   "execution_count": 7,
   "id": "b2ed1564",
   "metadata": {},
   "outputs": [
    {
     "data": {
      "text/plain": [
       "float"
      ]
     },
     "execution_count": 7,
     "metadata": {},
     "output_type": "execute_result"
    }
   ],
   "source": [
    "width_input = input(\"請輸入矩形的寬:\") #按下運行時,會出現[請輸入矩形的寬]我們就輸入 33,34,35...任一數值,電腦運算之後給出[float]\n",
    "type(width_input)\n",
    "width_value = float(width_input)\n",
    "type(width_value)"
   ]
  },
  {
   "cell_type": "code",
   "execution_count": 4,
   "id": "32551ac1",
   "metadata": {},
   "outputs": [
    {
     "name": "stdout",
     "output_type": "stream",
     "text": [
      "矩形的寬:34.0 高:33.0 面積是1122.0\n"
     ]
    }
   ],
   "source": [
    "width = float(input(\"請輸入矩形的寬:\"))\n",
    "height = float(input(\"請輸入矩形的高:\"))\n",
    "area = width * height\n",
    "print(f\"矩形的寬:{width} 高:{height} 面積是{round(area,ndigits=2)}\")"
   ]
  }
 ],
 "metadata": {
  "kernelspec": {
   "display_name": "base",
   "language": "python",
   "name": "python3"
  },
  "language_info": {
   "codemirror_mode": {
    "name": "ipython",
    "version": 3
   },
   "file_extension": ".py",
   "mimetype": "text/x-python",
   "name": "python",
   "nbconvert_exporter": "python",
   "pygments_lexer": "ipython3",
   "version": "3.12.7"
  }
 },
 "nbformat": 4,
 "nbformat_minor": 5
}
