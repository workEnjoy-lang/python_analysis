{
 "cells": [
  {
   "cell_type": "markdown",
   "id": "23496006",
   "metadata": {},
   "source": [
    "## 這是第3節上課內容"
   ]
  },
  {
   "cell_type": "code",
   "execution_count": null,
   "id": "1c023f84",
   "metadata": {},
   "outputs": [
    {
     "name": "stdout",
     "output_type": "stream",
     "text": [
      "矩形的寬:345.8 高:254.896 面積是88143.04\n"
     ]
    }
   ],
   "source": [
    "width = 345.8\n",
    "height = 254.896\n",
    "type (width)\n",
    "type (height) \n",
    "area = width * height\n",
    "type (area)\n",
    "print(f\"矩形的寬:{width} 高:{height} 面積是{round(area,ndigits=2)}\")\n",
    "#print   (f\"矩形的寬:{width} 高:{height} 面積是{round(area,ndigits=2)}\")\n",
    "#print[5](f[4]矩形的寬:{width}[1] 高:{height}[2] 面積是{round(area,ndigits=2)}[3] \") 輸入函示依照順序處理[1][2][3][4][5]"
   ]
  }
 ],
 "metadata": {
  "kernelspec": {
   "display_name": "base",
   "language": "python",
   "name": "python3"
  },
  "language_info": {
   "codemirror_mode": {
    "name": "ipython",
    "version": 3
   },
   "file_extension": ".py",
   "mimetype": "text/x-python",
   "name": "python",
   "nbconvert_exporter": "python",
   "pygments_lexer": "ipython3",
   "version": "3.12.7"
  }
 },
 "nbformat": 4,
 "nbformat_minor": 5
}
