{
 "cells": [
  {
   "cell_type": "code",
   "execution_count": 3,
   "id": "980597ec",
   "metadata": {},
   "outputs": [
    {
     "name": "stdout",
     "output_type": "stream",
     "text": [
      "<class 'list'>\n"
     ]
    }
   ],
   "source": [
    "students:list[dict] = [\n",
    "    {\"name\":\"小明\", \"chinese\": 85, \"english\": 92, \"math\": 78},\n",
    "    {\"name\":\"小華\", \"chinese\": 90, \"english\": 88, \"math\": 95},\n",
    "    {\"name\":\"小美\", \"chinese\": 79, \"english\": 85, \"math\": 90},\n",
    "    {\"name\":\"小強\", \"chinese\": 88, \"english\": 92, \"math\": 87},\n",
    "    {\"name\":\"小麗\", \"chinese\": 95, \"english\": 89, \"math\": 93},\n",
    "]\n",
    "print(type(students))"
   ]
  },
  {
   "cell_type": "code",
   "execution_count": 4,
   "id": "6290ffd7",
   "metadata": {},
   "outputs": [
    {
     "data": {
      "text/plain": [
       "dict"
      ]
     },
     "execution_count": 4,
     "metadata": {},
     "output_type": "execute_result"
    }
   ],
   "source": [
    "#使用符號建立實體\n",
    "ls1 = [1, 2, 3]\n",
    "type(ls1)\n",
    "di2 = {'one':1, 'two':2}\n",
    "type(di2)"
   ]
  },
  {
   "cell_type": "code",
   "execution_count": 5,
   "id": "537d1594",
   "metadata": {},
   "outputs": [
    {
     "data": {
      "text/plain": [
       "[1, 2, 3, 4, 5, 6, 7, 8, 9, 10]"
      ]
     },
     "execution_count": 5,
     "metadata": {},
     "output_type": "execute_result"
    }
   ],
   "source": [
    "#使用class建立實體\n",
    "ls3 = list(range(1,11))\n",
    "ls3"
   ]
  },
  {
   "cell_type": "code",
   "execution_count": 6,
   "id": "f6a51945",
   "metadata": {},
   "outputs": [
    {
     "data": {
      "text/plain": [
       "[]"
      ]
     },
     "execution_count": 6,
     "metadata": {},
     "output_type": "execute_result"
    }
   ],
   "source": [
    "ls4 = list()\n",
    "ls4"
   ]
  }
 ],
 "metadata": {
  "kernelspec": {
   "display_name": "base",
   "language": "python",
   "name": "python3"
  },
  "language_info": {
   "codemirror_mode": {
    "name": "ipython",
    "version": 3
   },
   "file_extension": ".py",
   "mimetype": "text/x-python",
   "name": "python",
   "nbconvert_exporter": "python",
   "pygments_lexer": "ipython3",
   "version": "3.12.7"
  }
 },
 "nbformat": 4,
 "nbformat_minor": 5
}
