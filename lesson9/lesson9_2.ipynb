{
 "cells": [
  {
   "cell_type": "code",
   "execution_count": 17,
   "id": "5380f8a1",
   "metadata": {},
   "outputs": [],
   "source": [
    "from dataclasses import dataclass\n",
    "\n",
    "@dataclass\n",
    "class Student:\n",
    "    name:str\n",
    "    chinese:int\n",
    "    english:int\n",
    "    math:int\n",
    "\n",
    "    @property\n",
    "    def sum(self):\n",
    "        return self.chinese + self.english + self.math\n",
    "\n",
    "    def average(self):#實體方法\n",
    "        return round(self.sum / 3.0,ndigits=2)"
   ]
  },
  {
   "cell_type": "code",
   "execution_count": 18,
   "id": "ed6bb253",
   "metadata": {},
   "outputs": [],
   "source": [
    "stu1:Student = Student(name=\"robert\",\n",
    "                        chinese=98,\n",
    "                        english=75,\n",
    "                        math=69)\n",
    "\n",
    "stu2:Student = Student(name=\"jenny\",\n",
    "                        chinese=87,\n",
    "                        english=92,\n",
    "                        math=75)                    "
   ]
  },
  {
   "cell_type": "code",
   "execution_count": 19,
   "id": "f26d2803",
   "metadata": {},
   "outputs": [
    {
     "name": "stdout",
     "output_type": "stream",
     "text": [
      "('robert', 98, 75, 69)\n",
      "267\n",
      "89.0\n"
     ]
    }
   ],
   "source": [
    "stul.chinese = 100\n",
    "#stul.cum = 300 一般的property只可以讀,不可以寫入(readonly)\n",
    "print((stu1.name, stu1.chinese, stu1.english, stu1.math))\n",
    "print(stul.sum) #呼叫property\n",
    "print(stul.average()) #呼叫實體方法"
   ]
  },
  {
   "cell_type": "code",
   "execution_count": 20,
   "id": "61a1e6ba",
   "metadata": {},
   "outputs": [
    {
     "name": "stdout",
     "output_type": "stream",
     "text": [
      "('jenny', 87, 92, 75)\n",
      "254\n",
      "84.67\n"
     ]
    }
   ],
   "source": [
    "print((stu2.name, stu2.chinese, stu2.english, stu2.math))\n",
    "print(stu2.sum)\n",
    "print(stu2.average())"
   ]
  }
 ],
 "metadata": {
  "kernelspec": {
   "display_name": "base",
   "language": "python",
   "name": "python3"
  },
  "language_info": {
   "codemirror_mode": {
    "name": "ipython",
    "version": 3
   },
   "file_extension": ".py",
   "mimetype": "text/x-python",
   "name": "python",
   "nbconvert_exporter": "python",
   "pygments_lexer": "ipython3",
   "version": "3.12.7"
  }
 },
 "nbformat": 4,
 "nbformat_minor": 5
}
